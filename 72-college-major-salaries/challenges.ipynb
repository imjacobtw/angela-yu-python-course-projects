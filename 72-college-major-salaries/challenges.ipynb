{
 "cells": [
  {
   "cell_type": "code",
   "execution_count": 1,
   "id": "3cb25b5f-3183-4e8f-a325-842be52dd17e",
   "metadata": {},
   "outputs": [],
   "source": [
    "import pandas as pd"
   ]
  },
  {
   "cell_type": "code",
   "execution_count": 2,
   "id": "51542cae-5843-4a1e-8c61-fb91aab2b9e3",
   "metadata": {},
   "outputs": [],
   "source": [
    "df = pd.read_csv(\"salaries_by_college_major.csv\")"
   ]
  },
  {
   "cell_type": "code",
   "execution_count": 3,
   "id": "2647c298-77f6-4874-a538-312dae4ff663",
   "metadata": {},
   "outputs": [],
   "source": [
    "clean_df = df.dropna()"
   ]
  },
  {
   "cell_type": "code",
   "execution_count": 4,
   "id": "5dc8095e-794b-4f40-ac3d-f11e72d0f103",
   "metadata": {},
   "outputs": [
    {
     "data": {
      "text/plain": [
       "'Chemical Engineering'"
      ]
     },
     "execution_count": 4,
     "metadata": {},
     "output_type": "execute_result"
    }
   ],
   "source": [
    "# What college major has the highest mid-career salary?\n",
    "highest_mid_career_salary_row_index = clean_df[\"Mid-Career Median Salary\"].idxmax()\n",
    "clean_df[\"Undergraduate Major\"][highest_mid_career_salary_row_index]"
   ]
  },
  {
   "cell_type": "code",
   "execution_count": 5,
   "id": "39991dff-169f-4afb-84df-7fcca58b6e80",
   "metadata": {},
   "outputs": [
    {
     "data": {
      "text/plain": [
       "107000.0"
      ]
     },
     "execution_count": 5,
     "metadata": {},
     "output_type": "execute_result"
    }
   ],
   "source": [
    "# How much do graduates with this major earn?\n",
    "clean_df.loc[highest_mid_career_salary_row_index][\"Mid-Career Median Salary\"]"
   ]
  },
  {
   "cell_type": "code",
   "execution_count": 6,
   "id": "91502f97-ee98-4412-a827-d40794b257e2",
   "metadata": {},
   "outputs": [
    {
     "data": {
      "text/plain": [
       "'Spanish'"
      ]
     },
     "execution_count": 6,
     "metadata": {},
     "output_type": "execute_result"
    }
   ],
   "source": [
    "# Which college major has the lowest starting salary?\n",
    "lowest_starting_salary_row_index = clean_df[\"Starting Median Salary\"].idxmin()\n",
    "clean_df[\"Undergraduate Major\"][lowest_starting_salary_row_index]"
   ]
  },
  {
   "cell_type": "code",
   "execution_count": 7,
   "id": "331de321-a4e3-46d0-b7ad-810476772ec4",
   "metadata": {},
   "outputs": [],
   "source": [
    "# How much do graduates of that major earn after university?"
   ]
  },
  {
   "cell_type": "code",
   "execution_count": 8,
   "id": "84e8b895-4a76-4c5c-8ec8-c08b8aaae262",
   "metadata": {},
   "outputs": [
    {
     "data": {
      "text/plain": [
       "34000.0"
      ]
     },
     "execution_count": 8,
     "metadata": {},
     "output_type": "execute_result"
    }
   ],
   "source": [
    "clean_df.loc[lowest_starting_salary_row_index][\"Starting Median Salary\"]"
   ]
  },
  {
   "cell_type": "code",
   "execution_count": 9,
   "id": "c5890a08-4119-42f2-9645-22f558476e08",
   "metadata": {},
   "outputs": [
    {
     "data": {
      "text/plain": [
       "'Education'"
      ]
     },
     "execution_count": 9,
     "metadata": {},
     "output_type": "execute_result"
    }
   ],
   "source": [
    "# Which college major has the lowest mid-career salary?\n",
    "lowest_mid_career_salary_row_index = clean_df[\"Mid-Career Median Salary\"].idxmin()\n",
    "clean_df[\"Undergraduate Major\"][lowest_mid_career_salary_row_index]"
   ]
  },
  {
   "cell_type": "code",
   "execution_count": 10,
   "id": "2f3740f7-6d27-4f28-b316-c465dc1cdbbb",
   "metadata": {},
   "outputs": [
    {
     "data": {
      "text/plain": [
       "52000.0"
      ]
     },
     "execution_count": 10,
     "metadata": {},
     "output_type": "execute_result"
    }
   ],
   "source": [
    "# How much can people expect to earn with this degree? \n",
    "clean_df.loc[lowest_mid_career_salary_row_index][\"Mid-Career Median Salary\"]"
   ]
  },
  {
   "cell_type": "code",
   "execution_count": 11,
   "id": "401f7ecb-3fb3-443a-956a-0872f38a6473",
   "metadata": {},
   "outputs": [
    {
     "data": {
      "text/html": [
       "<div>\n",
       "<style scoped>\n",
       "    .dataframe tbody tr th:only-of-type {\n",
       "        vertical-align: middle;\n",
       "    }\n",
       "\n",
       "    .dataframe tbody tr th {\n",
       "        vertical-align: top;\n",
       "    }\n",
       "\n",
       "    .dataframe thead th {\n",
       "        text-align: right;\n",
       "    }\n",
       "</style>\n",
       "<table border=\"1\" class=\"dataframe\">\n",
       "  <thead>\n",
       "    <tr style=\"text-align: right;\">\n",
       "      <th></th>\n",
       "      <th>Undergraduate Major</th>\n",
       "      <th>Mid-Career 90th Percentile Salary</th>\n",
       "    </tr>\n",
       "  </thead>\n",
       "  <tbody>\n",
       "    <tr>\n",
       "      <th>17</th>\n",
       "      <td>Economics</td>\n",
       "      <td>210000.0</td>\n",
       "    </tr>\n",
       "    <tr>\n",
       "      <th>22</th>\n",
       "      <td>Finance</td>\n",
       "      <td>195000.0</td>\n",
       "    </tr>\n",
       "    <tr>\n",
       "      <th>8</th>\n",
       "      <td>Chemical Engineering</td>\n",
       "      <td>194000.0</td>\n",
       "    </tr>\n",
       "    <tr>\n",
       "      <th>37</th>\n",
       "      <td>Math</td>\n",
       "      <td>183000.0</td>\n",
       "    </tr>\n",
       "    <tr>\n",
       "      <th>44</th>\n",
       "      <td>Physics</td>\n",
       "      <td>178000.0</td>\n",
       "    </tr>\n",
       "  </tbody>\n",
       "</table>\n",
       "</div>"
      ],
      "text/plain": [
       "     Undergraduate Major  Mid-Career 90th Percentile Salary\n",
       "17             Economics                           210000.0\n",
       "22               Finance                           195000.0\n",
       "8   Chemical Engineering                           194000.0\n",
       "37                  Math                           183000.0\n",
       "44               Physics                           178000.0"
      ]
     },
     "execution_count": 11,
     "metadata": {},
     "output_type": "execute_result"
    }
   ],
   "source": [
    "# Using the .sort_values() method, can you find the degrees with the highest potential?\n",
    "# Find the top 5 degrees with the highest values in the 90th percentile.\n",
    "highest_potential = clean_df.sort_values(\"Mid-Career 90th Percentile Salary\", ascending=False)\n",
    "highest_potential[[\"Undergraduate Major\", \"Mid-Career 90th Percentile Salary\"]].head()"
   ]
  },
  {
   "cell_type": "code",
   "execution_count": 12,
   "id": "00c6334a-0b11-4bdb-a630-29fd95f7cd7e",
   "metadata": {},
   "outputs": [
    {
     "data": {
      "text/html": [
       "<div>\n",
       "<style scoped>\n",
       "    .dataframe tbody tr th:only-of-type {\n",
       "        vertical-align: middle;\n",
       "    }\n",
       "\n",
       "    .dataframe tbody tr th {\n",
       "        vertical-align: top;\n",
       "    }\n",
       "\n",
       "    .dataframe thead th {\n",
       "        text-align: right;\n",
       "    }\n",
       "</style>\n",
       "<table border=\"1\" class=\"dataframe\">\n",
       "  <thead>\n",
       "    <tr style=\"text-align: right;\">\n",
       "      <th></th>\n",
       "      <th>Undergraduate Major</th>\n",
       "      <th>Spread</th>\n",
       "    </tr>\n",
       "  </thead>\n",
       "  <tbody>\n",
       "    <tr>\n",
       "      <th>17</th>\n",
       "      <td>Economics</td>\n",
       "      <td>159400.0</td>\n",
       "    </tr>\n",
       "    <tr>\n",
       "      <th>22</th>\n",
       "      <td>Finance</td>\n",
       "      <td>147800.0</td>\n",
       "    </tr>\n",
       "    <tr>\n",
       "      <th>37</th>\n",
       "      <td>Math</td>\n",
       "      <td>137800.0</td>\n",
       "    </tr>\n",
       "    <tr>\n",
       "      <th>36</th>\n",
       "      <td>Marketing</td>\n",
       "      <td>132900.0</td>\n",
       "    </tr>\n",
       "    <tr>\n",
       "      <th>42</th>\n",
       "      <td>Philosophy</td>\n",
       "      <td>132500.0</td>\n",
       "    </tr>\n",
       "  </tbody>\n",
       "</table>\n",
       "</div>"
      ],
      "text/plain": [
       "   Undergraduate Major    Spread\n",
       "17           Economics  159400.0\n",
       "22             Finance  147800.0\n",
       "37                Math  137800.0\n",
       "36           Marketing  132900.0\n",
       "42          Philosophy  132500.0"
      ]
     },
     "execution_count": 12,
     "metadata": {},
     "output_type": "execute_result"
    }
   ],
   "source": [
    "# Which majors have the largest difference between high and low earners after graduation?\n",
    "spread = clean_df[\"Mid-Career 90th Percentile Salary\"] - clean_df[\"Mid-Career 10th Percentile Salary\"]\n",
    "clean_df.insert(1, \"Spread\", spread)\n",
    "clean_df[[\"Undergraduate Major\", \"Spread\"]].sort_values(\"Spread\", ascending=False).head()"
   ]
  },
  {
   "cell_type": "code",
   "execution_count": 13,
   "id": "372d5165-0e54-494d-b7a8-0cafcd55a7e0",
   "metadata": {},
   "outputs": [
    {
     "data": {
      "text/html": [
       "<div>\n",
       "<style scoped>\n",
       "    .dataframe tbody tr th:only-of-type {\n",
       "        vertical-align: middle;\n",
       "    }\n",
       "\n",
       "    .dataframe tbody tr th {\n",
       "        vertical-align: top;\n",
       "    }\n",
       "\n",
       "    .dataframe thead th {\n",
       "        text-align: right;\n",
       "    }\n",
       "</style>\n",
       "<table border=\"1\" class=\"dataframe\">\n",
       "  <thead>\n",
       "    <tr style=\"text-align: right;\">\n",
       "      <th></th>\n",
       "      <th>Spread</th>\n",
       "      <th>Starting Median Salary</th>\n",
       "      <th>Mid-Career Median Salary</th>\n",
       "      <th>Mid-Career 10th Percentile Salary</th>\n",
       "      <th>Mid-Career 90th Percentile Salary</th>\n",
       "    </tr>\n",
       "    <tr>\n",
       "      <th>Group</th>\n",
       "      <th></th>\n",
       "      <th></th>\n",
       "      <th></th>\n",
       "      <th></th>\n",
       "      <th></th>\n",
       "    </tr>\n",
       "  </thead>\n",
       "  <tbody>\n",
       "    <tr>\n",
       "      <th>Business</th>\n",
       "      <td>103958.333333</td>\n",
       "      <td>44633.333333</td>\n",
       "      <td>75083.333333</td>\n",
       "      <td>43566.666667</td>\n",
       "      <td>147525.000000</td>\n",
       "    </tr>\n",
       "    <tr>\n",
       "      <th>HASS</th>\n",
       "      <td>95218.181818</td>\n",
       "      <td>37186.363636</td>\n",
       "      <td>62968.181818</td>\n",
       "      <td>34145.454545</td>\n",
       "      <td>129363.636364</td>\n",
       "    </tr>\n",
       "    <tr>\n",
       "      <th>STEM</th>\n",
       "      <td>101600.000000</td>\n",
       "      <td>53862.500000</td>\n",
       "      <td>90812.500000</td>\n",
       "      <td>56025.000000</td>\n",
       "      <td>157625.000000</td>\n",
       "    </tr>\n",
       "  </tbody>\n",
       "</table>\n",
       "</div>"
      ],
      "text/plain": [
       "                 Spread  Starting Median Salary  Mid-Career Median Salary  \\\n",
       "Group                                                                       \n",
       "Business  103958.333333            44633.333333              75083.333333   \n",
       "HASS       95218.181818            37186.363636              62968.181818   \n",
       "STEM      101600.000000            53862.500000              90812.500000   \n",
       "\n",
       "          Mid-Career 10th Percentile Salary  Mid-Career 90th Percentile Salary  \n",
       "Group                                                                           \n",
       "Business                       43566.666667                      147525.000000  \n",
       "HASS                           34145.454545                      129363.636364  \n",
       "STEM                           56025.000000                      157625.000000  "
      ]
     },
     "execution_count": 13,
     "metadata": {},
     "output_type": "execute_result"
    }
   ],
   "source": [
    "# Now can you use the .mean() method to find the average salary by group? \n",
    "clean_df.groupby(\"Group\").mean(numeric_only=True)"
   ]
  },
  {
   "cell_type": "code",
   "execution_count": null,
   "id": "99cfd4b1-b886-4038-af92-7d03cc06175d",
   "metadata": {},
   "outputs": [],
   "source": []
  }
 ],
 "metadata": {
  "kernelspec": {
   "display_name": "Python 3 (ipykernel)",
   "language": "python",
   "name": "python3"
  },
  "language_info": {
   "codemirror_mode": {
    "name": "ipython",
    "version": 3
   },
   "file_extension": ".py",
   "mimetype": "text/x-python",
   "name": "python",
   "nbconvert_exporter": "python",
   "pygments_lexer": "ipython3",
   "version": "3.12.7"
  }
 },
 "nbformat": 4,
 "nbformat_minor": 5
}
